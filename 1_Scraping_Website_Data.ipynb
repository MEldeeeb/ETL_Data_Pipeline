{
 "cells": [
  {
   "cell_type": "markdown",
   "id": "f136c306",
   "metadata": {},
   "source": [
    "## Objectives\n",
    "\n",
    "In this part you will:\n",
    "\n",
    "- Use webscraping to Collecting information about largest banks in the world by various parameters\n",
    "- Store Collected information in a JSON file.\n"
   ]
  },
  {
   "cell_type": "code",
   "execution_count": 1,
   "id": "02d84082",
   "metadata": {},
   "outputs": [],
   "source": [
    "import requests\n",
    "import pandas as pd\n",
    "from bs4 import BeautifulSoup\n",
    "import os"
   ]
  },
  {
   "cell_type": "code",
   "execution_count": 2,
   "id": "088c41f5",
   "metadata": {},
   "outputs": [],
   "source": [
    "url = \"https://web.archive.org/web/20200318083015/https://en.wikipedia.org/wiki/List_of_largest_banks\"\n",
    "respoce_html = requests.get(url)\n",
    "respoce_txt = respoce_html.text\n",
    "soup = BeautifulSoup(respoce_txt,'html')\n"
   ]
  },
  {
   "cell_type": "code",
   "execution_count": 3,
   "id": "6b1ce5dd",
   "metadata": {},
   "outputs": [],
   "source": [
    "data = []\n",
    "table = soup.find_all(\"tbody\")[2]\n",
    "all_tr_tags = table.find_all(\"tr\")\n",
    "for tr_tag in all_tr_tags:\n",
    "    all_td_tags_in_current_tr_tag = tr_tag.find_all(\"td\")\n",
    "    row = []\n",
    "    for td_tag in all_td_tags_in_current_tr_tag:\n",
    "        row.append(td_tag.text.strip())\n",
    "    data.append(row)\n",
    "df = pd.DataFrame(data,columns=['Rank',\"Bank Name\",\"Market cap (US$ billion)\"])"
   ]
  },
  {
   "cell_type": "code",
   "execution_count": 4,
   "id": "7d34374b",
   "metadata": {},
   "outputs": [
    {
     "data": {
      "text/html": [
       "<div>\n",
       "<style scoped>\n",
       "    .dataframe tbody tr th:only-of-type {\n",
       "        vertical-align: middle;\n",
       "    }\n",
       "\n",
       "    .dataframe tbody tr th {\n",
       "        vertical-align: top;\n",
       "    }\n",
       "\n",
       "    .dataframe thead th {\n",
       "        text-align: right;\n",
       "    }\n",
       "</style>\n",
       "<table border=\"1\" class=\"dataframe\">\n",
       "  <thead>\n",
       "    <tr style=\"text-align: right;\">\n",
       "      <th></th>\n",
       "      <th>Bank Name</th>\n",
       "      <th>Market cap (US$ billion)</th>\n",
       "    </tr>\n",
       "  </thead>\n",
       "  <tbody>\n",
       "    <tr>\n",
       "      <th>0</th>\n",
       "      <td>None</td>\n",
       "      <td>None</td>\n",
       "    </tr>\n",
       "    <tr>\n",
       "      <th>1</th>\n",
       "      <td>JPMorgan Chase</td>\n",
       "      <td>390.934</td>\n",
       "    </tr>\n",
       "    <tr>\n",
       "      <th>2</th>\n",
       "      <td>Industrial and Commercial Bank of China</td>\n",
       "      <td>345.214</td>\n",
       "    </tr>\n",
       "    <tr>\n",
       "      <th>3</th>\n",
       "      <td>Bank of America</td>\n",
       "      <td>325.331</td>\n",
       "    </tr>\n",
       "    <tr>\n",
       "      <th>4</th>\n",
       "      <td>Wells Fargo</td>\n",
       "      <td>308.013</td>\n",
       "    </tr>\n",
       "    <tr>\n",
       "      <th>...</th>\n",
       "      <td>...</td>\n",
       "      <td>...</td>\n",
       "    </tr>\n",
       "    <tr>\n",
       "      <th>66</th>\n",
       "      <td>Ping An Bank</td>\n",
       "      <td>37.993</td>\n",
       "    </tr>\n",
       "    <tr>\n",
       "      <th>67</th>\n",
       "      <td>Standard Chartered</td>\n",
       "      <td>37.319</td>\n",
       "    </tr>\n",
       "    <tr>\n",
       "      <th>68</th>\n",
       "      <td>United Overseas Bank</td>\n",
       "      <td>35.128</td>\n",
       "    </tr>\n",
       "    <tr>\n",
       "      <th>69</th>\n",
       "      <td>QNB Group</td>\n",
       "      <td>33.560</td>\n",
       "    </tr>\n",
       "    <tr>\n",
       "      <th>70</th>\n",
       "      <td>Bank Rakyat</td>\n",
       "      <td>33.081</td>\n",
       "    </tr>\n",
       "  </tbody>\n",
       "</table>\n",
       "<p>71 rows × 2 columns</p>\n",
       "</div>"
      ],
      "text/plain": [
       "                                  Bank Name Market cap (US$ billion)\n",
       "0                                      None                     None\n",
       "1                            JPMorgan Chase                  390.934\n",
       "2   Industrial and Commercial Bank of China                  345.214\n",
       "3                           Bank of America                  325.331\n",
       "4                               Wells Fargo                  308.013\n",
       "..                                      ...                      ...\n",
       "66                             Ping An Bank                   37.993\n",
       "67                       Standard Chartered                   37.319\n",
       "68                     United Overseas Bank                   35.128\n",
       "69                                QNB Group                   33.560\n",
       "70                              Bank Rakyat                   33.081\n",
       "\n",
       "[71 rows x 2 columns]"
      ]
     },
     "execution_count": 4,
     "metadata": {},
     "output_type": "execute_result"
    }
   ],
   "source": [
    "df.drop(columns=[\"Rank\"])"
   ]
  },
  {
   "cell_type": "code",
   "execution_count": 5,
   "id": "4b772854",
   "metadata": {},
   "outputs": [],
   "source": [
    "df.to_json(\"bank_market_cap.json\")"
   ]
  },
  {
   "cell_type": "code",
   "execution_count": null,
   "id": "3ea4f5d4",
   "metadata": {},
   "outputs": [],
   "source": []
  }
 ],
 "metadata": {
  "kernelspec": {
   "display_name": "Python 3 (ipykernel)",
   "language": "python",
   "name": "python3"
  },
  "language_info": {
   "codemirror_mode": {
    "name": "ipython",
    "version": 3
   },
   "file_extension": ".py",
   "mimetype": "text/x-python",
   "name": "python",
   "nbconvert_exporter": "python",
   "pygments_lexer": "ipython3",
   "version": "3.9.7"
  }
 },
 "nbformat": 4,
 "nbformat_minor": 5
}
