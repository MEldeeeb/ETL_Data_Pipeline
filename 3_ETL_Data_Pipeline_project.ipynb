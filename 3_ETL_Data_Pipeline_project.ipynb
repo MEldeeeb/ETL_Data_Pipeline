{
 "cells": [
  {
   "cell_type": "markdown",
   "id": "4e433913",
   "metadata": {},
   "source": [
    "## Objectives\n",
    "\n",
    "In this part we will:\n",
    "\n",
    "- Develop an End to End ETL process with a log file\n",
    "\n",
    "- Extract bank and market cap data from the JSON file `bank_market_cap.json` that we got from scraping a wikipedia webpage: \n",
    "https://web.archive.org/web/20200318083015/https://en.wikipedia.org/wiki/List_of_largest_banks\n",
    "\n",
    "- Transform the market cap currency using the exchange rate data from the csv file `exchange_rates.csv` that we got from using ExchangeRate-API: https://exchangeratesapi.io/\n",
    "\n",
    "- Load the transformed data into a seperate CSV\n"
   ]
  },
  {
   "cell_type": "code",
   "execution_count": 1,
   "id": "b5d3c7f1",
   "metadata": {},
   "outputs": [],
   "source": [
    "import glob\n",
    "import pandas as pd\n",
    "from datetime import datetime"
   ]
  },
  {
   "cell_type": "code",
   "execution_count": 2,
   "id": "390fd58a",
   "metadata": {},
   "outputs": [],
   "source": [
    "def extract_from_json(file_to_process):\n",
    "    dataframe = pd.read_json(file_to_process)\n",
    "    return dataframe"
   ]
  },
  {
   "cell_type": "code",
   "execution_count": 3,
   "id": "af7dd23e",
   "metadata": {},
   "outputs": [],
   "source": [
    "def extract_from_csv(file_to_process):\n",
    "    dataframe = pd.read_csv(file_to_process)\n",
    "    return dataframe"
   ]
  },
  {
   "cell_type": "markdown",
   "id": "6d841ea5",
   "metadata": {},
   "source": [
    "## Extract Function\n",
    "\n",
    "Extract function finds JSON files in the current working directory and calls the function extract_from_json to extract data from them and Storing these data in a Pandas Dataframe.\n"
   ]
  },
  {
   "cell_type": "code",
   "execution_count": 4,
   "id": "f3e7b042",
   "metadata": {},
   "outputs": [],
   "source": [
    "def extract():\n",
    "    columns=['Name','Market Cap (US$ Billion)']\n",
    "    data_frame = pd.DataFrame()\n",
    "    for json_file in glob.glob('*.json'):\n",
    "        data_frame = data_frame.append(extract_from_json(json_file),ignore_index=True)\n",
    "        data_frame = data_frame.drop(columns = [\"Rank\"])[1:] \n",
    "        # renaming columns \n",
    "        data_frame.columns = columns\n",
    "    return data_frame"
   ]
  },
  {
   "cell_type": "code",
   "execution_count": 5,
   "id": "f7ae7511",
   "metadata": {},
   "outputs": [
    {
     "data": {
      "text/html": [
       "<div>\n",
       "<style scoped>\n",
       "    .dataframe tbody tr th:only-of-type {\n",
       "        vertical-align: middle;\n",
       "    }\n",
       "\n",
       "    .dataframe tbody tr th {\n",
       "        vertical-align: top;\n",
       "    }\n",
       "\n",
       "    .dataframe thead th {\n",
       "        text-align: right;\n",
       "    }\n",
       "</style>\n",
       "<table border=\"1\" class=\"dataframe\">\n",
       "  <thead>\n",
       "    <tr style=\"text-align: right;\">\n",
       "      <th></th>\n",
       "      <th>Name</th>\n",
       "      <th>Market Cap (US$ Billion)</th>\n",
       "    </tr>\n",
       "  </thead>\n",
       "  <tbody>\n",
       "    <tr>\n",
       "      <th>1</th>\n",
       "      <td>JPMorgan Chase</td>\n",
       "      <td>390.934</td>\n",
       "    </tr>\n",
       "    <tr>\n",
       "      <th>2</th>\n",
       "      <td>Industrial and Commercial Bank of China</td>\n",
       "      <td>345.214</td>\n",
       "    </tr>\n",
       "    <tr>\n",
       "      <th>3</th>\n",
       "      <td>Bank of America</td>\n",
       "      <td>325.331</td>\n",
       "    </tr>\n",
       "    <tr>\n",
       "      <th>4</th>\n",
       "      <td>Wells Fargo</td>\n",
       "      <td>308.013</td>\n",
       "    </tr>\n",
       "    <tr>\n",
       "      <th>5</th>\n",
       "      <td>China Construction Bank</td>\n",
       "      <td>257.399</td>\n",
       "    </tr>\n",
       "    <tr>\n",
       "      <th>...</th>\n",
       "      <td>...</td>\n",
       "      <td>...</td>\n",
       "    </tr>\n",
       "    <tr>\n",
       "      <th>66</th>\n",
       "      <td>Ping An Bank</td>\n",
       "      <td>37.993</td>\n",
       "    </tr>\n",
       "    <tr>\n",
       "      <th>67</th>\n",
       "      <td>Standard Chartered</td>\n",
       "      <td>37.319</td>\n",
       "    </tr>\n",
       "    <tr>\n",
       "      <th>68</th>\n",
       "      <td>United Overseas Bank</td>\n",
       "      <td>35.128</td>\n",
       "    </tr>\n",
       "    <tr>\n",
       "      <th>69</th>\n",
       "      <td>QNB Group</td>\n",
       "      <td>33.560</td>\n",
       "    </tr>\n",
       "    <tr>\n",
       "      <th>70</th>\n",
       "      <td>Bank Rakyat</td>\n",
       "      <td>33.081</td>\n",
       "    </tr>\n",
       "  </tbody>\n",
       "</table>\n",
       "<p>70 rows × 2 columns</p>\n",
       "</div>"
      ],
      "text/plain": [
       "                                       Name  Market Cap (US$ Billion)\n",
       "1                            JPMorgan Chase                   390.934\n",
       "2   Industrial and Commercial Bank of China                   345.214\n",
       "3                           Bank of America                   325.331\n",
       "4                               Wells Fargo                   308.013\n",
       "5                   China Construction Bank                   257.399\n",
       "..                                      ...                       ...\n",
       "66                             Ping An Bank                    37.993\n",
       "67                       Standard Chartered                    37.319\n",
       "68                     United Overseas Bank                    35.128\n",
       "69                                QNB Group                    33.560\n",
       "70                              Bank Rakyat                    33.081\n",
       "\n",
       "[70 rows x 2 columns]"
      ]
     },
     "execution_count": 5,
     "metadata": {},
     "output_type": "execute_result"
    }
   ],
   "source": [
    "#testing extract function\n",
    "extract()"
   ]
  },
  {
   "cell_type": "code",
   "execution_count": 6,
   "id": "6442811c",
   "metadata": {},
   "outputs": [],
   "source": [
    "#get_specific_rate function return a specific exchange rate\n",
    "def get_aspecific_rate(rate):\n",
    "    df = extract_from_csv(\"exchange_rates.csv\")\n",
    "    df.columns = [\"currency\", 'rates']\n",
    "    return(float(df[df['currency'] == \"{}\".format(rate)]['rates']))\n"
   ]
  },
  {
   "cell_type": "code",
   "execution_count": 7,
   "id": "338869f8",
   "metadata": {},
   "outputs": [
    {
     "data": {
      "text/plain": [
       "0.854124"
      ]
     },
     "execution_count": 7,
     "metadata": {},
     "output_type": "execute_result"
    }
   ],
   "source": [
    "# testing get_aspecific_rate function\n",
    "get_aspecific_rate('GBP')"
   ]
  },
  {
   "cell_type": "markdown",
   "id": "6bd15de6",
   "metadata": {},
   "source": [
    "## Transform\n",
    "\n",
    "Uses extracted data and the specific exchange rate to preform the following Transformation\n",
    "\n",
    "1. Changes the `Market Cap (US$ Billion)` column from USD to GBP\n",
    "2. Rounds the Market Cap (US$ Billion)` column to 3 decimal places\n",
    "3. Rename `Market Cap (US$ Billion)` to `Market Cap (GBP$ Billion)`"
   ]
  },
  {
   "cell_type": "code",
   "execution_count": 8,
   "id": "821073fb",
   "metadata": {},
   "outputs": [],
   "source": [
    "def transform(extracted_data,rate):\n",
    "    transformed_df = pd.DataFrame(extracted_data)\n",
    "    transformed_df['Market Cap (GBP$ Billion)'] = round(transformed_df['Market Cap (US$ Billion)'].astype(float)*rate,3)\n",
    "    return transformed_df.drop(columns=['Market Cap (US$ Billion)'])"
   ]
  },
  {
   "cell_type": "code",
   "execution_count": 9,
   "id": "ad1eabd8",
   "metadata": {},
   "outputs": [],
   "source": [
    "#loading data into csv file named `bank_market_cap_gbp.csv`\n",
    "def load(data_to_be_Loaded):\n",
    "    # Write your code here\n",
    "    data_to_be_Loaded = pd.DataFrame(data_to_be_Loaded)\n",
    "    data_to_be_Loaded.to_csv(\"bank_market_cap_gbp.csv\",index=False)"
   ]
  },
  {
   "cell_type": "code",
   "execution_count": 10,
   "id": "e63bb9bd",
   "metadata": {},
   "outputs": [],
   "source": [
    "# log is a logging function that  \n",
    "def log(message):\n",
    "    # Write your code here\n",
    "    time_now = datetime.now()\n",
    "    with open('logs.txt','a') as f:\n",
    "        f.write(\"{} ===> {} \\n\".format(time_now ,message))"
   ]
  },
  {
   "cell_type": "markdown",
   "id": "aa0caa5f",
   "metadata": {},
   "source": [
    "# Running the ETL Process"
   ]
  },
  {
   "cell_type": "code",
   "execution_count": 11,
   "id": "09438e32",
   "metadata": {},
   "outputs": [],
   "source": [
    "log(\"ETL Job Started\")\n",
    "log( \"Extract phase Started\")\n",
    "extracted_data = extract()\n",
    "log(\"Extract phase Ended\")\n",
    "log(\"Transform phase Started\")\n",
    "transformed_data = transform(extracted_data,get_aspecific_rate('GBP'))\n",
    "log(\"Transform phase Ended\")\n",
    "log(\"Load phase Started\")\n",
    "load(transformed_data)\n",
    "log(\"Load phase Ended\")\n"
   ]
  },
  {
   "cell_type": "code",
   "execution_count": null,
   "id": "deb5a4a6",
   "metadata": {},
   "outputs": [],
   "source": []
  }
 ],
 "metadata": {
  "kernelspec": {
   "display_name": "Python 3 (ipykernel)",
   "language": "python",
   "name": "python3"
  },
  "language_info": {
   "codemirror_mode": {
    "name": "ipython",
    "version": 3
   },
   "file_extension": ".py",
   "mimetype": "text/x-python",
   "name": "python",
   "nbconvert_exporter": "python",
   "pygments_lexer": "ipython3",
   "version": "3.9.7"
  }
 },
 "nbformat": 4,
 "nbformat_minor": 5
}
